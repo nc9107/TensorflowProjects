{
  "nbformat": 4,
  "nbformat_minor": 0,
  "metadata": {
    "colab": {
      "name": "AdmissionPrediction.ipynb",
      "provenance": [],
      "collapsed_sections": [],
      "authorship_tag": "ABX9TyPOzHbf7kK2q0eJeEIwqNNz",
      "include_colab_link": true
    },
    "kernelspec": {
      "name": "python3",
      "display_name": "Python 3"
    },
    "language_info": {
      "name": "python"
    }
  },
  "cells": [
    {
      "cell_type": "markdown",
      "metadata": {
        "id": "view-in-github",
        "colab_type": "text"
      },
      "source": [
        "<a href=\"https://colab.research.google.com/github/nc9107/TensorflowProjects/blob/main/AdmissionPrediction.ipynb\" target=\"_parent\"><img src=\"https://colab.research.google.com/assets/colab-badge.svg\" alt=\"Open In Colab\"/></a>"
      ]
    },
    {
      "cell_type": "markdown",
      "source": [
        "\n",
        "\n",
        "> Project Dependencies\n",
        "\n"
      ],
      "metadata": {
        "id": "QjD2NlJmH1X3"
      }
    },
    {
      "cell_type": "code",
      "execution_count": null,
      "metadata": {
        "id": "laICeTUAEun5"
      },
      "outputs": [],
      "source": [
        "import pandas as pd \n",
        "import numpy as np\n",
        "\n",
        "import tensorflow as tf \n",
        "from tensorflow import keras\n",
        "from tensorflow.keras.models import Sequential\n",
        "from tensorflow.keras.optimizers import Adam\n",
        "from tensorflow.keras.layers import Dense, Dropout, InputLayer\n",
        "from tensorflow.keras.callbacks import EarlyStopping\n",
        "\n",
        "\n",
        "\n",
        "from sklearn.model_selection import train_test_split\n",
        "from sklearn.preprocessing import StandardScaler, Normalizer\n",
        "from sklearn.metrics import r2_score\n",
        "\n",
        "import matplotlib.pyplot as plt\n"
      ]
    },
    {
      "cell_type": "markdown",
      "source": [
        "## EDA"
      ],
      "metadata": {
        "id": "1CtibYj3H845"
      }
    },
    {
      "cell_type": "code",
      "source": [
        "dataset = pd.read_csv('admissions_data.csv')\n",
        "dataset.head()"
      ],
      "metadata": {
        "colab": {
          "base_uri": "https://localhost:8080/",
          "height": 206
        },
        "id": "J1tpRISVIABT",
        "outputId": "2497cd2d-7074-4896-e0da-e9d5340960d6"
      },
      "execution_count": null,
      "outputs": [
        {
          "output_type": "execute_result",
          "data": {
            "text/plain": [
              "   Serial No.  GRE Score  TOEFL Score  University Rating  SOP  LOR   CGPA  \\\n",
              "0           1        337          118                  4  4.5   4.5  9.65   \n",
              "1           2        324          107                  4  4.0   4.5  8.87   \n",
              "2           3        316          104                  3  3.0   3.5  8.00   \n",
              "3           4        322          110                  3  3.5   2.5  8.67   \n",
              "4           5        314          103                  2  2.0   3.0  8.21   \n",
              "\n",
              "   Research  Chance of Admit   \n",
              "0         1              0.92  \n",
              "1         1              0.76  \n",
              "2         1              0.72  \n",
              "3         1              0.80  \n",
              "4         0              0.65  "
            ],
            "text/html": [
              "\n",
              "  <div id=\"df-3e4ef653-5e3a-4076-bfc4-09b4507f52a5\">\n",
              "    <div class=\"colab-df-container\">\n",
              "      <div>\n",
              "<style scoped>\n",
              "    .dataframe tbody tr th:only-of-type {\n",
              "        vertical-align: middle;\n",
              "    }\n",
              "\n",
              "    .dataframe tbody tr th {\n",
              "        vertical-align: top;\n",
              "    }\n",
              "\n",
              "    .dataframe thead th {\n",
              "        text-align: right;\n",
              "    }\n",
              "</style>\n",
              "<table border=\"1\" class=\"dataframe\">\n",
              "  <thead>\n",
              "    <tr style=\"text-align: right;\">\n",
              "      <th></th>\n",
              "      <th>Serial No.</th>\n",
              "      <th>GRE Score</th>\n",
              "      <th>TOEFL Score</th>\n",
              "      <th>University Rating</th>\n",
              "      <th>SOP</th>\n",
              "      <th>LOR</th>\n",
              "      <th>CGPA</th>\n",
              "      <th>Research</th>\n",
              "      <th>Chance of Admit</th>\n",
              "    </tr>\n",
              "  </thead>\n",
              "  <tbody>\n",
              "    <tr>\n",
              "      <th>0</th>\n",
              "      <td>1</td>\n",
              "      <td>337</td>\n",
              "      <td>118</td>\n",
              "      <td>4</td>\n",
              "      <td>4.5</td>\n",
              "      <td>4.5</td>\n",
              "      <td>9.65</td>\n",
              "      <td>1</td>\n",
              "      <td>0.92</td>\n",
              "    </tr>\n",
              "    <tr>\n",
              "      <th>1</th>\n",
              "      <td>2</td>\n",
              "      <td>324</td>\n",
              "      <td>107</td>\n",
              "      <td>4</td>\n",
              "      <td>4.0</td>\n",
              "      <td>4.5</td>\n",
              "      <td>8.87</td>\n",
              "      <td>1</td>\n",
              "      <td>0.76</td>\n",
              "    </tr>\n",
              "    <tr>\n",
              "      <th>2</th>\n",
              "      <td>3</td>\n",
              "      <td>316</td>\n",
              "      <td>104</td>\n",
              "      <td>3</td>\n",
              "      <td>3.0</td>\n",
              "      <td>3.5</td>\n",
              "      <td>8.00</td>\n",
              "      <td>1</td>\n",
              "      <td>0.72</td>\n",
              "    </tr>\n",
              "    <tr>\n",
              "      <th>3</th>\n",
              "      <td>4</td>\n",
              "      <td>322</td>\n",
              "      <td>110</td>\n",
              "      <td>3</td>\n",
              "      <td>3.5</td>\n",
              "      <td>2.5</td>\n",
              "      <td>8.67</td>\n",
              "      <td>1</td>\n",
              "      <td>0.80</td>\n",
              "    </tr>\n",
              "    <tr>\n",
              "      <th>4</th>\n",
              "      <td>5</td>\n",
              "      <td>314</td>\n",
              "      <td>103</td>\n",
              "      <td>2</td>\n",
              "      <td>2.0</td>\n",
              "      <td>3.0</td>\n",
              "      <td>8.21</td>\n",
              "      <td>0</td>\n",
              "      <td>0.65</td>\n",
              "    </tr>\n",
              "  </tbody>\n",
              "</table>\n",
              "</div>\n",
              "      <button class=\"colab-df-convert\" onclick=\"convertToInteractive('df-3e4ef653-5e3a-4076-bfc4-09b4507f52a5')\"\n",
              "              title=\"Convert this dataframe to an interactive table.\"\n",
              "              style=\"display:none;\">\n",
              "        \n",
              "  <svg xmlns=\"http://www.w3.org/2000/svg\" height=\"24px\"viewBox=\"0 0 24 24\"\n",
              "       width=\"24px\">\n",
              "    <path d=\"M0 0h24v24H0V0z\" fill=\"none\"/>\n",
              "    <path d=\"M18.56 5.44l.94 2.06.94-2.06 2.06-.94-2.06-.94-.94-2.06-.94 2.06-2.06.94zm-11 1L8.5 8.5l.94-2.06 2.06-.94-2.06-.94L8.5 2.5l-.94 2.06-2.06.94zm10 10l.94 2.06.94-2.06 2.06-.94-2.06-.94-.94-2.06-.94 2.06-2.06.94z\"/><path d=\"M17.41 7.96l-1.37-1.37c-.4-.4-.92-.59-1.43-.59-.52 0-1.04.2-1.43.59L10.3 9.45l-7.72 7.72c-.78.78-.78 2.05 0 2.83L4 21.41c.39.39.9.59 1.41.59.51 0 1.02-.2 1.41-.59l7.78-7.78 2.81-2.81c.8-.78.8-2.07 0-2.86zM5.41 20L4 18.59l7.72-7.72 1.47 1.35L5.41 20z\"/>\n",
              "  </svg>\n",
              "      </button>\n",
              "      \n",
              "  <style>\n",
              "    .colab-df-container {\n",
              "      display:flex;\n",
              "      flex-wrap:wrap;\n",
              "      gap: 12px;\n",
              "    }\n",
              "\n",
              "    .colab-df-convert {\n",
              "      background-color: #E8F0FE;\n",
              "      border: none;\n",
              "      border-radius: 50%;\n",
              "      cursor: pointer;\n",
              "      display: none;\n",
              "      fill: #1967D2;\n",
              "      height: 32px;\n",
              "      padding: 0 0 0 0;\n",
              "      width: 32px;\n",
              "    }\n",
              "\n",
              "    .colab-df-convert:hover {\n",
              "      background-color: #E2EBFA;\n",
              "      box-shadow: 0px 1px 2px rgba(60, 64, 67, 0.3), 0px 1px 3px 1px rgba(60, 64, 67, 0.15);\n",
              "      fill: #174EA6;\n",
              "    }\n",
              "\n",
              "    [theme=dark] .colab-df-convert {\n",
              "      background-color: #3B4455;\n",
              "      fill: #D2E3FC;\n",
              "    }\n",
              "\n",
              "    [theme=dark] .colab-df-convert:hover {\n",
              "      background-color: #434B5C;\n",
              "      box-shadow: 0px 1px 3px 1px rgba(0, 0, 0, 0.15);\n",
              "      filter: drop-shadow(0px 1px 2px rgba(0, 0, 0, 0.3));\n",
              "      fill: #FFFFFF;\n",
              "    }\n",
              "  </style>\n",
              "\n",
              "      <script>\n",
              "        const buttonEl =\n",
              "          document.querySelector('#df-3e4ef653-5e3a-4076-bfc4-09b4507f52a5 button.colab-df-convert');\n",
              "        buttonEl.style.display =\n",
              "          google.colab.kernel.accessAllowed ? 'block' : 'none';\n",
              "\n",
              "        async function convertToInteractive(key) {\n",
              "          const element = document.querySelector('#df-3e4ef653-5e3a-4076-bfc4-09b4507f52a5');\n",
              "          const dataTable =\n",
              "            await google.colab.kernel.invokeFunction('convertToInteractive',\n",
              "                                                     [key], {});\n",
              "          if (!dataTable) return;\n",
              "\n",
              "          const docLinkHtml = 'Like what you see? Visit the ' +\n",
              "            '<a target=\"_blank\" href=https://colab.research.google.com/notebooks/data_table.ipynb>data table notebook</a>'\n",
              "            + ' to learn more about interactive tables.';\n",
              "          element.innerHTML = '';\n",
              "          dataTable['output_type'] = 'display_data';\n",
              "          await google.colab.output.renderOutput(dataTable, element);\n",
              "          const docLink = document.createElement('div');\n",
              "          docLink.innerHTML = docLinkHtml;\n",
              "          element.appendChild(docLink);\n",
              "        }\n",
              "      </script>\n",
              "    </div>\n",
              "  </div>\n",
              "  "
            ]
          },
          "metadata": {},
          "execution_count": 2
        }
      ]
    },
    {
      "cell_type": "code",
      "source": [
        "# Feature - Label Split \n",
        "\n",
        "features = dataset.iloc[:,1:-1]\n",
        "labels = dataset.iloc[:,-1]"
      ],
      "metadata": {
        "id": "bwPIX6YIIAOs"
      },
      "execution_count": null,
      "outputs": []
    },
    {
      "cell_type": "code",
      "source": [
        "feature_train, feature_test, label_train, label_test = train_test_split(features, labels, test_size = 0.33, random_state = 42)"
      ],
      "metadata": {
        "id": "GBUI2hZxIAS-"
      },
      "execution_count": null,
      "outputs": []
    },
    {
      "cell_type": "code",
      "source": [
        "# Standardizing Data \n",
        "\n",
        "st = StandardScaler()\n",
        "\n",
        "feature_train_scaled = st.fit_transform(feature_train)\n",
        "feature_test_scaled = st.transform(feature_test)"
      ],
      "metadata": {
        "id": "iBzOgFKgKtBt"
      },
      "execution_count": null,
      "outputs": []
    },
    {
      "cell_type": "code",
      "source": [
        "feature_train_scaled = pd.DataFrame(feature_train_scaled)\n",
        "feature_test_scaled = pd.DataFrame(feature_test_scaled)"
      ],
      "metadata": {
        "id": "05zKPnqkKtIH"
      },
      "execution_count": null,
      "outputs": []
    },
    {
      "cell_type": "code",
      "source": [
        "print(feature_train_scaled.head())"
      ],
      "metadata": {
        "colab": {
          "base_uri": "https://localhost:8080/"
        },
        "id": "ARjzmbw-KtM_",
        "outputId": "223a6504-ad7d-4921-c824-0eb1885b029f"
      },
      "execution_count": null,
      "outputs": [
        {
          "output_type": "stream",
          "name": "stdout",
          "text": [
            "          0         1         2         3         4         5         6\n",
            "0 -0.525175 -0.706986 -0.082885 -1.385311  0.538819 -0.835766 -1.144703\n",
            "1  0.477036  0.276434  1.652517  1.123225 -0.001613  0.363045 -1.144703\n",
            "2 -0.798505 -1.034792 -0.950586 -0.381897  0.538819 -1.156574 -1.144703\n",
            "3  0.203706 -0.706986 -0.082885 -0.883604  0.538819  0.295507  0.873589\n",
            "4  1.297027  1.423757  1.652517  1.624933  1.619684  1.342356  0.873589\n"
          ]
        }
      ]
    },
    {
      "cell_type": "code",
      "source": [
        "print(\"Feature Train Shape: \" + str(feature_train_scaled.shape[1]))\n",
        "print(\"Label Train Shape: \" + str(label_train.shape))\n"
      ],
      "metadata": {
        "colab": {
          "base_uri": "https://localhost:8080/"
        },
        "id": "Nq1odWj0KtQu",
        "outputId": "57748e6f-df8f-404d-de03-87156e103290"
      },
      "execution_count": null,
      "outputs": [
        {
          "output_type": "stream",
          "name": "stdout",
          "text": [
            "Feature Train Shape: 7\n",
            "Label Train Shape: (335,)\n"
          ]
        }
      ]
    },
    {
      "cell_type": "code",
      "source": [
        "model = Sequential([\n",
        "            InputLayer(input_shape=(feature_train_scaled.shape[1],)),\n",
        "            Dense(128, activation='relu'),\n",
        "            Dropout(0.2),\n",
        "            Dense(128, activation='relu'),\n",
        "            Dropout(0.3),\n",
        "            Dense(64, activation='relu'),\n",
        "            Dense(1)\n",
        "])"
      ],
      "metadata": {
        "id": "eIVSIzuLN_fI"
      },
      "execution_count": null,
      "outputs": []
    },
    {
      "cell_type": "code",
      "source": [
        "opt = Adam(learning_rate=0.01)"
      ],
      "metadata": {
        "id": "CWZlKxwSO-0i"
      },
      "execution_count": null,
      "outputs": []
    },
    {
      "cell_type": "code",
      "source": [
        "model.compile(optimizer = 'adam', loss=tf.keras.losses.mean_squared_error, metrics=['accuracy', 'mae'])"
      ],
      "metadata": {
        "id": "FWDylm-XO9WQ"
      },
      "execution_count": null,
      "outputs": []
    },
    {
      "cell_type": "code",
      "source": [
        "EPOCHS = 40\n",
        "history = model.fit(feature_train_scaled,label_train, epochs=EPOCHS, batch_size=10, verbose=1)"
      ],
      "metadata": {
        "colab": {
          "base_uri": "https://localhost:8080/"
        },
        "id": "AHq9JaQpOI-8",
        "outputId": "0395f7f6-218e-44fe-b0a0-732c55760c0f"
      },
      "execution_count": null,
      "outputs": [
        {
          "output_type": "stream",
          "name": "stdout",
          "text": [
            "Epoch 1/40\n",
            "34/34 [==============================] - 2s 6ms/step - loss: 0.0970 - accuracy: 0.0000e+00 - mae: 0.2447\n",
            "Epoch 2/40\n",
            "34/34 [==============================] - 0s 5ms/step - loss: 0.0199 - accuracy: 0.0000e+00 - mae: 0.1150\n",
            "Epoch 3/40\n",
            "34/34 [==============================] - 0s 5ms/step - loss: 0.0177 - accuracy: 0.0000e+00 - mae: 0.1049\n",
            "Epoch 4/40\n",
            "34/34 [==============================] - 0s 5ms/step - loss: 0.0130 - accuracy: 0.0000e+00 - mae: 0.0913\n",
            "Epoch 5/40\n",
            "34/34 [==============================] - 0s 5ms/step - loss: 0.0095 - accuracy: 0.0000e+00 - mae: 0.0767\n",
            "Epoch 6/40\n",
            "34/34 [==============================] - 0s 5ms/step - loss: 0.0081 - accuracy: 0.0000e+00 - mae: 0.0712\n",
            "Epoch 7/40\n",
            "34/34 [==============================] - 0s 5ms/step - loss: 0.0085 - accuracy: 0.0000e+00 - mae: 0.0736\n",
            "Epoch 8/40\n",
            "34/34 [==============================] - 0s 5ms/step - loss: 0.0074 - accuracy: 0.0000e+00 - mae: 0.0677\n",
            "Epoch 9/40\n",
            "34/34 [==============================] - 0s 5ms/step - loss: 0.0066 - accuracy: 0.0000e+00 - mae: 0.0633\n",
            "Epoch 10/40\n",
            "34/34 [==============================] - 0s 5ms/step - loss: 0.0068 - accuracy: 0.0000e+00 - mae: 0.0655\n",
            "Epoch 11/40\n",
            "34/34 [==============================] - 0s 5ms/step - loss: 0.0063 - accuracy: 0.0000e+00 - mae: 0.0623\n",
            "Epoch 12/40\n",
            "34/34 [==============================] - 0s 6ms/step - loss: 0.0063 - accuracy: 0.0000e+00 - mae: 0.0622\n",
            "Epoch 13/40\n",
            "34/34 [==============================] - 0s 7ms/step - loss: 0.0057 - accuracy: 0.0000e+00 - mae: 0.0594\n",
            "Epoch 14/40\n",
            "34/34 [==============================] - 0s 8ms/step - loss: 0.0060 - accuracy: 0.0000e+00 - mae: 0.0614\n",
            "Epoch 15/40\n",
            "34/34 [==============================] - 0s 6ms/step - loss: 0.0056 - accuracy: 0.0000e+00 - mae: 0.0580\n",
            "Epoch 16/40\n",
            "34/34 [==============================] - 0s 6ms/step - loss: 0.0046 - accuracy: 0.0000e+00 - mae: 0.0527\n",
            "Epoch 17/40\n",
            "34/34 [==============================] - 0s 4ms/step - loss: 0.0052 - accuracy: 0.0000e+00 - mae: 0.0591\n",
            "Epoch 18/40\n",
            "34/34 [==============================] - 0s 6ms/step - loss: 0.0045 - accuracy: 0.0000e+00 - mae: 0.0499\n",
            "Epoch 19/40\n",
            "34/34 [==============================] - 0s 5ms/step - loss: 0.0038 - accuracy: 0.0000e+00 - mae: 0.0480\n",
            "Epoch 20/40\n",
            "34/34 [==============================] - 0s 6ms/step - loss: 0.0043 - accuracy: 0.0000e+00 - mae: 0.0511\n",
            "Epoch 21/40\n",
            "34/34 [==============================] - 0s 5ms/step - loss: 0.0040 - accuracy: 0.0000e+00 - mae: 0.0501\n",
            "Epoch 22/40\n",
            "34/34 [==============================] - 0s 7ms/step - loss: 0.0044 - accuracy: 0.0000e+00 - mae: 0.0516\n",
            "Epoch 23/40\n",
            "34/34 [==============================] - 0s 6ms/step - loss: 0.0050 - accuracy: 0.0000e+00 - mae: 0.0548\n",
            "Epoch 24/40\n",
            "34/34 [==============================] - 0s 6ms/step - loss: 0.0037 - accuracy: 0.0000e+00 - mae: 0.0469\n",
            "Epoch 25/40\n",
            "34/34 [==============================] - 0s 5ms/step - loss: 0.0043 - accuracy: 0.0000e+00 - mae: 0.0519\n",
            "Epoch 26/40\n",
            "34/34 [==============================] - 0s 5ms/step - loss: 0.0043 - accuracy: 0.0000e+00 - mae: 0.0522\n",
            "Epoch 27/40\n",
            "34/34 [==============================] - 0s 6ms/step - loss: 0.0034 - accuracy: 0.0000e+00 - mae: 0.0456\n",
            "Epoch 28/40\n",
            "34/34 [==============================] - 0s 5ms/step - loss: 0.0034 - accuracy: 0.0000e+00 - mae: 0.0440\n",
            "Epoch 29/40\n",
            "34/34 [==============================] - 0s 5ms/step - loss: 0.0033 - accuracy: 0.0000e+00 - mae: 0.0448\n",
            "Epoch 30/40\n",
            "34/34 [==============================] - 0s 5ms/step - loss: 0.0033 - accuracy: 0.0000e+00 - mae: 0.0446\n",
            "Epoch 31/40\n",
            "34/34 [==============================] - 0s 5ms/step - loss: 0.0037 - accuracy: 0.0000e+00 - mae: 0.0474\n",
            "Epoch 32/40\n",
            "34/34 [==============================] - 0s 8ms/step - loss: 0.0033 - accuracy: 0.0000e+00 - mae: 0.0440\n",
            "Epoch 33/40\n",
            "34/34 [==============================] - 0s 8ms/step - loss: 0.0034 - accuracy: 0.0000e+00 - mae: 0.0438\n",
            "Epoch 34/40\n",
            "34/34 [==============================] - 0s 6ms/step - loss: 0.0029 - accuracy: 0.0000e+00 - mae: 0.0417\n",
            "Epoch 35/40\n",
            "34/34 [==============================] - 0s 5ms/step - loss: 0.0031 - accuracy: 0.0000e+00 - mae: 0.0431\n",
            "Epoch 36/40\n",
            "34/34 [==============================] - 0s 5ms/step - loss: 0.0029 - accuracy: 0.0000e+00 - mae: 0.0405\n",
            "Epoch 37/40\n",
            "34/34 [==============================] - 0s 6ms/step - loss: 0.0030 - accuracy: 0.0000e+00 - mae: 0.0420\n",
            "Epoch 38/40\n",
            "34/34 [==============================] - 0s 7ms/step - loss: 0.0029 - accuracy: 0.0000e+00 - mae: 0.0409\n",
            "Epoch 39/40\n",
            "34/34 [==============================] - 0s 5ms/step - loss: 0.0034 - accuracy: 0.0000e+00 - mae: 0.0452\n",
            "Epoch 40/40\n",
            "34/34 [==============================] - 0s 4ms/step - loss: 0.0033 - accuracy: 0.0000e+00 - mae: 0.0456\n"
          ]
        }
      ]
    },
    {
      "cell_type": "code",
      "source": [
        "# error_mse, error_mae = model.evaluate(feature_test_scaled, label_test, verbose=0 )\n",
        "\n",
        "# print('Error_mse: ' , str(error_mse*100))\n",
        "# print('Error_mae: ', str(error_mae*100))"
      ],
      "metadata": {
        "colab": {
          "base_uri": "https://localhost:8080/",
          "height": 218
        },
        "id": "aaB1QSaAOBJ9",
        "outputId": "5e3e2688-f63d-4bb8-d7f8-2a729c9ee9f6"
      },
      "execution_count": null,
      "outputs": [
        {
          "output_type": "error",
          "ename": "ValueError",
          "evalue": "ignored",
          "traceback": [
            "\u001b[0;31m---------------------------------------------------------------------------\u001b[0m",
            "\u001b[0;31mValueError\u001b[0m                                Traceback (most recent call last)",
            "\u001b[0;32m<ipython-input-13-48150be37b1a>\u001b[0m in \u001b[0;36m<module>\u001b[0;34m()\u001b[0m\n\u001b[0;32m----> 1\u001b[0;31m \u001b[0merror_mse\u001b[0m\u001b[0;34m,\u001b[0m \u001b[0merror_mae\u001b[0m \u001b[0;34m=\u001b[0m \u001b[0mmodel\u001b[0m\u001b[0;34m.\u001b[0m\u001b[0mevaluate\u001b[0m\u001b[0;34m(\u001b[0m\u001b[0mfeature_test_scaled\u001b[0m\u001b[0;34m,\u001b[0m \u001b[0mlabel_test\u001b[0m\u001b[0;34m,\u001b[0m \u001b[0mverbose\u001b[0m\u001b[0;34m=\u001b[0m\u001b[0;36m0\u001b[0m \u001b[0;34m)\u001b[0m\u001b[0;34m\u001b[0m\u001b[0;34m\u001b[0m\u001b[0m\n\u001b[0m\u001b[1;32m      2\u001b[0m \u001b[0;34m\u001b[0m\u001b[0m\n\u001b[1;32m      3\u001b[0m \u001b[0mprint\u001b[0m\u001b[0;34m(\u001b[0m\u001b[0;34m'Error_mse: '\u001b[0m \u001b[0;34m,\u001b[0m \u001b[0mstr\u001b[0m\u001b[0;34m(\u001b[0m\u001b[0merror_mse\u001b[0m\u001b[0;34m*\u001b[0m\u001b[0;36m100\u001b[0m\u001b[0;34m)\u001b[0m\u001b[0;34m)\u001b[0m\u001b[0;34m\u001b[0m\u001b[0;34m\u001b[0m\u001b[0m\n\u001b[1;32m      4\u001b[0m \u001b[0mprint\u001b[0m\u001b[0;34m(\u001b[0m\u001b[0;34m'Error_mae: '\u001b[0m\u001b[0;34m,\u001b[0m \u001b[0mstr\u001b[0m\u001b[0;34m(\u001b[0m\u001b[0merror_mae\u001b[0m\u001b[0;34m*\u001b[0m\u001b[0;36m100\u001b[0m\u001b[0;34m)\u001b[0m\u001b[0;34m)\u001b[0m\u001b[0;34m\u001b[0m\u001b[0;34m\u001b[0m\u001b[0m\n",
            "\u001b[0;31mValueError\u001b[0m: too many values to unpack (expected 2)"
          ]
        }
      ]
    },
    {
      "cell_type": "code",
      "source": [
        "# fig = plt.figure()\n",
        "# ax1 = fig.add_subplot(2, 1, 1)\n",
        "# ax1.plot(history.history['mae'])\n",
        "# ax1.plot(history.history['val_mae'])\n",
        "# ax1.set_title('model mae')\n",
        "# ax1.set_ylabel('MAE')\n",
        "# ax1.set_xlabel('epoch')\n",
        "# ax1.legend(['train', 'validation'], loc='upper left')\n",
        " \n",
        "#   # Plot loss and val_loss over each epoch\n",
        "# ax2 = fig.add_subplot(2, 1, 2)\n",
        "# ax2.plot(history.history['loss'])\n",
        "# ax2.plot(history.history['val_loss'])\n",
        "# ax2.set_title('model loss')\n",
        "# ax2.set_ylabel('loss')\n",
        "# ax2.set_xlabel('epoch')\n",
        "# ax2.legend(['train', 'validation'], loc='upper left')\n",
        " \n",
        "# # used to keep plots from overlapping each other  \n",
        "# fig.tight_layout()\n",
        "# fig.savefig('static/images/my_plots.png')"
      ],
      "metadata": {
        "id": "UFF4NKXs-LY9"
      },
      "execution_count": null,
      "outputs": []
    },
    {
      "cell_type": "markdown",
      "source": [
        "##r2 score "
      ],
      "metadata": {
        "id": "aMKqv68W0K3y"
      }
    },
    {
      "cell_type": "code",
      "source": [
        "predicted_values = model.predict(feature_test_scaled) \n",
        "print(r2_score(label_test, predicted_values)) "
      ],
      "metadata": {
        "colab": {
          "base_uri": "https://localhost:8080/"
        },
        "id": "RZ-z7NIN0NDl",
        "outputId": "84bdc9ca-20fa-4387-98bb-118d29ba6d9d"
      },
      "execution_count": null,
      "outputs": [
        {
          "output_type": "stream",
          "name": "stdout",
          "text": [
            "0.6780958205969752\n"
          ]
        }
      ]
    }
  ]
}